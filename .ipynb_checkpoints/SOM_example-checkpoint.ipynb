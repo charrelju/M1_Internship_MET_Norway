{
 "cells": [
  {
   "cell_type": "markdown",
   "id": "772fc745-b010-4b60-a27a-a8854d25f5c6",
   "metadata": {},
   "source": [
    "<div style=\"text-align:right;\">Justine Charrel - Master 1 Internship</div>"
   ]
  },
  {
   "cell_type": "markdown",
   "id": "fa28ff21-b45b-440f-bb8d-1cd68c6d0a82",
   "metadata": {},
   "source": [
    "This script is used to realize examples of self-organizing maps."
   ]
  },
  {
   "cell_type": "markdown",
   "id": "51f180d4-ca9b-49f3-b17e-a09f893c10f5",
   "metadata": {
    "tags": []
   },
   "source": [
    "### IMPORT"
   ]
  },
  {
   "cell_type": "code",
   "execution_count": 2,
   "id": "c111cc68-a132-4c59-8e50-8ebfd7f8bffd",
   "metadata": {},
   "outputs": [],
   "source": [
    "from netCDF4 import Dataset as ncfile\n",
    "from netCDF4 import num2date\n",
    "import matplotlib.dates as dates\n",
    "from minisom import MiniSom\n",
    "import time\n",
    "import numpy as np\n",
    "import matplotlib.pyplot as plt\n",
    "from pylab import colorbar\n",
    "from sklearn.metrics import mean_squared_error, mean_absolute_error\n",
    "from numpy.linalg import norm\n",
    "import sys\n",
    "import numpy.ma as ma\n",
    "#import cartopy\n",
    "import pandas as pd\n",
    "import datetime\n",
    "import pickle\n",
    "\n",
    "import warnings\n",
    "from shapely.errors import ShapelyDeprecationWarning\n",
    "warnings.filterwarnings(\"ignore\", category=ShapelyDeprecationWarning)"
   ]
  },
  {
   "cell_type": "markdown",
   "id": "c5173cd2-f2dd-495a-89f7-2fc572cd2409",
   "metadata": {
    "tags": []
   },
   "source": [
    "### READ DATA"
   ]
  },
  {
   "cell_type": "code",
   "execution_count": 4,
   "id": "2e954103-b7b3-4f9d-a533-b170c081a250",
   "metadata": {},
   "outputs": [],
   "source": [
    "ppidir = '/home/jcharrel/Documents/M1_internship/lustre/storeB/users/justinec/master_internship/data/ERA5_MOSAiC/'\n",
    "data_link  = ppidir + 'concatenated_ERA5_MOSAiC.nc'\n",
    "\n",
    "dataset = ncfile(data_link,'r')    #dataset of radiosoundings of MOSAiC and ERA5"
   ]
  },
  {
   "cell_type": "code",
   "execution_count": 5,
   "id": "e51b4dbb-4074-4eaa-9981-9820cf8a52e9",
   "metadata": {
    "tags": []
   },
   "outputs": [],
   "source": [
    "pres = dataset.variables['pres'][:]\n",
    "era5_rh = dataset.variables['rh_era5'][:]\n",
    "mosaic_rh = dataset.variables['rh_mosaic'][:]\n",
    "era5_temp = dataset.variables['temp_era5'][:]\n",
    "mosaic_temp = dataset.variables['temp_mosaic'][:]\n",
    "era5_sh = dataset.variables['sh_era5'][:]\n",
    "mosaic_sh = dataset.variables['sh_mosaic'][:]\n",
    "mosaic_time = dataset.variables['time_mosaic'][:]\n",
    "mosaic_lat = dataset.variables['lat_mosaic'][:]\n",
    "mosaic_lon = dataset.variables['lon_mosaic'][:]"
   ]
  },
  {
   "cell_type": "code",
   "execution_count": 6,
   "id": "58d79848-e5f7-48f4-b74e-0a743e6df2e5",
   "metadata": {},
   "outputs": [],
   "source": [
    "\"\"\"Function that convert times of a dataset depemding on its unit and calendar \n",
    "type to a datetime then to Matplotlib dates.\n",
    "---exemple---\n",
    "ERA5 :  'hours since 1900-01-01 00:00:00.0' become datetime of type 2019-10-01 00:00:00 then 18170\n",
    "MOSAiC : 'seconds since 2019-10-31T22:55:09.757Z' become datetime of type 2019-10-31 22:55:09.757000 then 18200.954974039352\n",
    "\"\"\"\n",
    "def convert_time(dataset) :\n",
    "    dataset_time = dataset.variables['time_mosaic']\n",
    "    t_unit = dataset_time.units\n",
    "    t_cal = dataset_time.calendar\n",
    "    dataset_nctime=[]; \n",
    "    dataset_nctime.append(num2date(dataset_time,units = t_unit,calendar = t_cal, only_use_python_datetimes=True, only_use_cftime_datetimes=False)) #datetime of type 2019-10-01 00:00:00\n",
    "    #dates.date2num --> convert datetime objects to Matplotlib dates (better for compare ERA5 and MOSAiC times and for figures)\n",
    "    #np.squeeze --> pass Matplotlib dates in column instead of in line\n",
    "    dataset_nctimenum = np.squeeze(dates.date2num(dataset_nctime))\n",
    "    return dataset_nctime,dataset_nctimenum,t_unit"
   ]
  },
  {
   "cell_type": "code",
   "execution_count": 7,
   "id": "f49efb9a-1ef4-435c-8676-7c971daa1558",
   "metadata": {},
   "outputs": [],
   "source": [
    "nctime, nctimenum, t_unit = convert_time(dataset)"
   ]
  },
  {
   "cell_type": "markdown",
   "id": "090719a3-c6c8-4394-999e-6b3a00f563f1",
   "metadata": {},
   "source": [
    "### REPLACE MASKED/NAN VALUES BY INTERPOLATION BETWEEN NEAREST VALUES"
   ]
  },
  {
   "cell_type": "code",
   "execution_count": 8,
   "id": "7c2df6d7-eddb-4259-afed-465524fd0e98",
   "metadata": {},
   "outputs": [],
   "source": [
    "mosaic_rh = np.ma.masked_object(mosaic_rh, mosaic_rh[559][11]) # mask outlier value"
   ]
  },
  {
   "cell_type": "code",
   "execution_count": 9,
   "id": "5464c080-5462-41c9-8287-50f273a4bc64",
   "metadata": {},
   "outputs": [],
   "source": [
    "def replacenan(var) :\n",
    "    new_var = np.zeros((1399,29))\n",
    "    for i in range(0,len(var)) :\n",
    "        for j in range(0,len(var[i])) :\n",
    "            if ma.getmask(var)[i][j] == True :\n",
    "                #print('masked value in {}, {}'.format(i,j))\n",
    "                if j == 28 :\n",
    "                    #print('value in j-1 : {}, value in j-2 : {}'.format(var[i][j-1],var[i][j-2]))\n",
    "                    new_var[i][j] = var[i][j-1]+(var[i][j-1]-var[i][j-2])\n",
    "                    #print('new value :', new_var[i][j])\n",
    "                else :\n",
    "                    #print(var[i][j-1],var[i][j+1])\n",
    "                    new_var[i][j] = np.mean([var[i][j-1],var[i][j+1]])\n",
    "                    #print(new_var[i][j])\n",
    "            else :\n",
    "                new_var[i][j] = var[i][j]  \n",
    "    return new_var"
   ]
  },
  {
   "cell_type": "code",
   "execution_count": 10,
   "id": "e2e4497e-c59e-4ca0-892f-9fba1cf30f03",
   "metadata": {},
   "outputs": [
    {
     "name": "stdout",
     "output_type": "stream",
     "text": [
      "nan values temp: 0\n",
      "nan values rh: 0\n",
      "nan values sh: 0\n"
     ]
    }
   ],
   "source": [
    "new_mosaic_temp = replacenan(mosaic_temp)\n",
    "print('nan values temp:', ma.count_masked(new_mosaic_temp)) # verify there is no masked/nan values\n",
    "temp_bias = era5_temp-new_mosaic_temp # bias of temperature between ERA5 and MOSAiC\n",
    "\n",
    "new_mosaic_rh = replacenan(mosaic_rh)\n",
    "print('nan values rh:', ma.count_masked(new_mosaic_rh)) # verify there is no masked/nan values\n",
    "rh_bias = era5_rh-new_mosaic_rh # bias of relative humidity between ERA5 and MOSAiC\n",
    "data = rh_bias\n",
    "\n",
    "sh_bias = era5_sh-mosaic_sh # bias of specific humidity between ERA5 and MOSAiC\n",
    "print('nan values sh:', ma.count_masked(mosaic_sh)) # verify there is no masked/nan values"
   ]
  },
  {
   "cell_type": "code",
   "execution_count": 256,
   "id": "8d599799-5501-4fc2-9bc9-a1ced71b0d99",
   "metadata": {},
   "outputs": [],
   "source": [
    "a = temp_bias[500:600]\n",
    "b = temp_bias[1000:1100]\n",
    "data = ma.concatenate([a, b], axis = 0)"
   ]
  },
  {
   "cell_type": "markdown",
   "id": "6998dff7-fc50-4a83-a3b6-05035b773014",
   "metadata": {},
   "source": [
    "### SELF-ORGANIZING MAPS"
   ]
  },
  {
   "cell_type": "markdown",
   "id": "56c64a77-2aba-4812-b3e3-bb4ffe9585cc",
   "metadata": {
    "tags": []
   },
   "source": [
    "#### Set hyperparameters"
   ]
  },
  {
   "cell_type": "code",
   "execution_count": 257,
   "id": "0c704e36-c230-4af3-82db-535fa6e2ddad",
   "metadata": {},
   "outputs": [],
   "source": [
    "x = 2\n",
    "y = 2\n",
    "input_len = len(data[1])\n",
    "iterations = 10000\n",
    "sigma = 0.7\n",
    "learning_rate = 0.008"
   ]
  },
  {
   "cell_type": "markdown",
   "id": "2e083253-b057-4f0e-af35-2aa7b2bfabd7",
   "metadata": {
    "tags": []
   },
   "source": [
    "#### Train and plot SOM"
   ]
  },
  {
   "cell_type": "code",
   "execution_count": 258,
   "id": "b269ceb7-6593-4d24-86c9-564a2b7e952e",
   "metadata": {},
   "outputs": [],
   "source": [
    "def train_som(x, y, input_len, sigma, learning_rate):\n",
    "    \n",
    "    # initialization of x*y SOM\n",
    "    som = MiniSom(x=x, \n",
    "                  y=y, \n",
    "                  input_len=input_len, \n",
    "                  sigma=sigma, \n",
    "                  learning_rate=learning_rate, \n",
    "                  random_seed=10)\n",
    "    som.random_weights_init(data)\n",
    "    \n",
    "    # training\n",
    "    start_time = time.time()\n",
    "    som.train_random(data,iterations)\n",
    "    elapsed_time = time.time() - start_time\n",
    "    #print(elapsed_time, \"seconds\")\n",
    "    print('total_q_error :', som.quantization_error(data))\n",
    "    \n",
    "    return som"
   ]
  },
  {
   "cell_type": "code",
   "execution_count": 259,
   "id": "3a6608b5-1cd5-4c63-a0ba-0cc51a5c3c2b",
   "metadata": {},
   "outputs": [
    {
     "name": "stdout",
     "output_type": "stream",
     "text": [
      "total_q_error : 2.9058180284046737\n"
     ]
    }
   ],
   "source": [
    "som = train_som(x, y, input_len, sigma, learning_rate)"
   ]
  },
  {
   "cell_type": "markdown",
   "id": "7eeabd41-8537-4e7e-9508-43bee2b32ae8",
   "metadata": {},
   "source": [
    "#### Parameters from minisom library, usefull for plot"
   ]
  },
  {
   "cell_type": "code",
   "execution_count": 261,
   "id": "ff1bf658-8ef9-4438-b622-ee299a1b3205",
   "metadata": {},
   "outputs": [
    {
     "name": "stdout",
     "output_type": "stream",
     "text": [
      "number of profiles : \n",
      " [[ 33. 110.]\n",
      " [ 18.  39.]]\n"
     ]
    }
   ],
   "source": [
    "neuron_weights = som.get_weights()           # neuron weights for each neuron\n",
    "win_map = som.win_map(data)                  # profiles sort by indices of neuron\n",
    "nb_profiles = som.activation_response(data)  # number of profiles in each neuron\n",
    "print('number of profiles : \\n', nb_profiles)"
   ]
  },
  {
   "cell_type": "markdown",
   "id": "a36fbcda-46d7-403d-af91-06fb4e6cf372",
   "metadata": {},
   "source": [
    "### PLOT"
   ]
  },
  {
   "cell_type": "code",
   "execution_count": 267,
   "id": "75239c2a-e69f-429e-b2dd-b090508973d6",
   "metadata": {},
   "outputs": [],
   "source": [
    "mean=[]\n",
    "for i in range(0,x) :\n",
    "     for j in range(0,y) :\n",
    "        mean.append(np.mean(win_map[(i,j)], axis=0))"
   ]
  },
  {
   "cell_type": "code",
   "execution_count": 325,
   "id": "66c421fc-3621-4979-8f72-178a3e9fcf82",
   "metadata": {},
   "outputs": [
    {
     "data": {
      "image/png": "[encoded data removed]",
      "text/plain": [
       "<Figure size 360x360 with 1 Axes>"
      ]
     },
     "metadata": {
      "needs_background": "light"
     },
     "output_type": "display_data"
    }
   ],
   "source": [
    "parameters = {'axes.labelsize':18, 'axes.titlesize':18, 'legend.fontsize':17, 'xtick.labelsize':16, 'ytick.labelsize':16, \n",
    "                  'legend.title_fontsize':17, 'figure.titlesize':25}\n",
    "plt.rcParams.update(parameters)\n",
    "fig = plt.figure(figsize=(5,5))\n",
    "plt.plot(win_map[(0,1)][2], pres, color='b')\n",
    "plt.gca().invert_yaxis()\n",
    "plt.grid()\n",
    "plt.xlim(-9,9)\n",
    "plt.ylim(1000,300)\n",
    "plt.xticks([-8,-6,-4,-2,0,2,4,6,8])\n",
    "plt.ylabel('Pressure [$hPa$]')\n",
    "plt.xlabel('Temperature [$K$]')\n",
    "fig.tight_layout()\n",
    "path_fig = '/home/jcharrel/Documents/M1_internship/lustre/storeB/users/justinec/master_internship/figures/era5_mosaic_SOM/'\n",
    "plt.savefig(path_fig+'SOM_exemple.png',dpi=300, facecolor='white', transparent=False)"
   ]
  },
  {
   "cell_type": "code",
   "execution_count": 336,
   "id": "b7997a04-8ded-491e-b513-6c24302a4606",
   "metadata": {},
   "outputs": [
    {
     "data": {
      "image/png": "[encoded data removed]",
      "text/plain": [
       "<Figure size 720x720 with 4 Axes>"
      ]
     },
     "metadata": {
      "needs_background": "light"
     },
     "output_type": "display_data"
    }
   ],
   "source": [
    "parameters = {'axes.labelsize':18, 'axes.titlesize':18, 'legend.fontsize':17, 'xtick.labelsize':16, 'ytick.labelsize':16, \n",
    "                  'legend.title_fontsize':17, 'figure.titlesize':25}\n",
    "plt.rcParams.update(parameters)\n",
    "      \n",
    "fig, axs = plt.subplots(x,y,figsize=(10,10))\n",
    "red = np.linspace(0,1,4)\n",
    "blue = np.linspace(0,1,4)\n",
    "n=0\n",
    "\n",
    "for i in range(0,x) :\n",
    "     for j in range(0,y) :\n",
    "        neuron_name = 'neuron_'+str(i)+'_'+str(j)\n",
    "        #axs[i,j].fill_betweenx(pres, std_min_neuron_list[neuron_name], std_max_neuron_list[neuron_name], alpha = 0.7, edgecolor='grey', facecolor='grey', zorder=3)\n",
    "        for p in range(len(win_map[(i,j)])) :\n",
    "            #axs[0,0].plot(win_map[(0,0)][0], pres, color='k')\n",
    "            #axs[0,1].plot(win_map[(0,1)][0], pres, color='k')\n",
    "            axs[0,1].plot(win_map[(0,1)][2], pres, color='b')\n",
    "            #axs[1,0].plot(win_map[(1,0)][0], pres, color='k')\n",
    "            #axs[1,1].plot(win_map[(1,1)][0], pres, color='k')\n",
    "            if p==0 :\n",
    "                bbox_props = dict(boxstyle='square', facecolor='white', edgecolor='black', alpha=0.7)\n",
    "                #axs[i, j].text(0.15, 0.85, '{}\\n{}\\n{}'.format(int(nb_profiles[i][j]),np.round(mae_neuron[n], 2),np.round(rmse_neuron[n], 2)),\n",
    "                #horizontalalignment='center', verticalalignment='center', transform=axs[i, j].transAxes,fontsize=17,bbox=bbox_props)\n",
    "        axs[i,j].plot(neuron_weights[i][j], pres, 'k')\n",
    "        axs[i,j].invert_yaxis()\n",
    "        axs[i,j].grid()\n",
    "        axs[i,j].set_xlim(-9,9)\n",
    "        axs[i,j].set_ylim(1000,300)\n",
    "        axs[i,j].set_xticks([-8,-6,-4,-2,0,2,4,6,8])\n",
    "        axs[i,j].set_title('Neuron #'+str(n), weight='bold')\n",
    "        if j==0 :\n",
    "            axs[i,j].set_ylabel('Pressure [$hPa$]')\n",
    "        if i>0 :\n",
    "            axs[i,j].set_xlabel('Temperature [$K$]')                     \n",
    "        n=n+1       \n",
    "fig.tight_layout()        \n",
    "fig.subplots_adjust(hspace=0.16)\n",
    "\n",
    "path_fig = '/home/jcharrel/Documents/M1_internship/lustre/storeB/users/justinec/master_internship/figures/era5_mosaic_SOM/'\n",
    "plt.savefig(path_fig+'ERA5_MOSAIC_bias_rh_'+str(x*y)+'_s'+str(sigma)+'_lt'+str(learning_rate)+'_i'+str(iterations)+'_SOM.png',dpi=300, facecolor='white', transparent=False)"
   ]
  },
  {
   "cell_type": "code",
   "execution_count": null,
   "id": "71347a66-31f4-432e-8d9a-a9efcffb1a72",
   "metadata": {},
   "outputs": [],
   "source": []
  }
 ],
 "metadata": {
  "kernelspec": {
   "display_name": "Python 3 (ipykernel)",
   "language": "python",
   "name": "python3"
  },
  "language_info": {
   "codemirror_mode": {
    "name": "ipython",
    "version": 3
   },
   "file_extension": ".py",
   "mimetype": "text/x-python",
   "name": "python",
   "nbconvert_exporter": "python",
   "pygments_lexer": "ipython3",
   "version": "3.8.10"
  }
 },
 "nbformat": 4,
 "nbformat_minor": 5
}
