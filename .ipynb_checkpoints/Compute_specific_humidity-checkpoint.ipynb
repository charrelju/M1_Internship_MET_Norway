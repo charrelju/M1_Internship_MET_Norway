{
 "cells": [
  {
   "cell_type": "markdown",
   "id": "0bd1cc01-391f-4ae8-8dac-8328f1340e51",
   "metadata": {},
   "source": [
    "### IMPORT"
   ]
  },
  {
   "cell_type": "code",
   "execution_count": 6,
   "id": "57d8cd8c-e85a-490d-84d6-e5c9a96c920f",
   "metadata": {},
   "outputs": [],
   "source": [
    "from netCDF4 import Dataset as ncfile\n",
    "from metpy.calc import relative_humidity_from_specific_humidity, specific_humidity_from_mixing_ratio\n",
    "from metpy.units import units\n",
    "import numpy as np"
   ]
  },
  {
   "cell_type": "markdown",
   "id": "4606a0db-3d08-4ae0-a336-c2f2711835a0",
   "metadata": {},
   "source": [
    "### READ DATA"
   ]
  },
  {
   "cell_type": "code",
   "execution_count": 3,
   "id": "7e5498e4-8683-4e62-a662-6bff921d6d4b",
   "metadata": {},
   "outputs": [],
   "source": [
    "ppidir = '/lustre/storeB/users/justinec/master_internship/data/ERA5_RH_TEST/'\n",
    "data_link  = ppidir + 'ERA5_202301170000.nc'\n",
    "\n",
    "dataset = ncfile(data_link,'r')    #dataset of radiosoundings of MOSAiC and ERA5"
   ]
  },
  {
   "cell_type": "code",
   "execution_count": 4,
   "id": "189399ae-1f33-4e91-8b45-ff1c1f9f6b75",
   "metadata": {},
   "outputs": [
    {
     "data": {
      "text/plain": [
       "<class 'netCDF4._netCDF4.Dataset'>\n",
       "root group (NETCDF3_64BIT_OFFSET data model, file format NETCDF3):\n",
       "    Conventions: CF-1.6\n",
       "    history: 2023-04-17 11:45:18 GMT by grib_to_netcdf-2.25.1: /opt/ecmwf/mars-client/bin/grib_to_netcdf.bin -S param -o /cache/data1/adaptor.mars.internal-1681731918.3584309-2571-5-282fb10c-d326-4714-8218-74e7aa9311a7.nc /cache/tmp/282fb10c-d326-4714-8218-74e7aa9311a7-adaptor.mars.internal-1681731912.4851146-2571-6-tmp.grib\n",
       "    dimensions(sizes): longitude(1440), latitude(81), level(37), time(1)\n",
       "    variables(dimensions): float32 longitude(longitude), float32 latitude(latitude), int32 level(level), int32 time(time), int16 r(time, level, latitude, longitude), int16 q(time, level, latitude, longitude), int16 t(time, level, latitude, longitude)\n",
       "    groups: "
      ]
     },
     "execution_count": 4,
     "metadata": {},
     "output_type": "execute_result"
    }
   ],
   "source": [
    "dataset"
   ]
  },
  {
   "cell_type": "code",
   "execution_count": 101,
   "id": "61a85253-d65b-4b19-8385-4c4d3b547734",
   "metadata": {},
   "outputs": [],
   "source": [
    "pres = dataset.variables['level'][:] #hPa\n",
    "temp = dataset.variables['t'][:] #K\n",
    "temp_celsius = temp-273.15 #°C\n",
    "rh = dataset.variables['r'][:] #%\n",
    "sh = dataset.variables['q'][:] #kg/kg"
   ]
  },
  {
   "cell_type": "code",
   "execution_count": 116,
   "id": "2fa15479-81b2-494d-898c-fa8fff92d8e4",
   "metadata": {},
   "outputs": [
    {
     "name": "stdout",
     "output_type": "stream",
     "text": [
      "rh = 28.414345892176534  sh = 0.0003447526557383157\n",
      " rh with MetPy : 24.854526454760403 percent\n",
      "sh with formula =  0.0003934944393156853\n"
     ]
    }
   ],
   "source": [
    "##################################\n",
    "print('rh = {}  sh = {}'.format(rh[0][30][40][1200], sh[0][30][40][1200]))\n",
    "print(' rh with MetPy :', relative_humidity_from_specific_humidity(pres[30] * units.hPa,\n",
    "                                         temp[0][30][40][1200] * units.K, sh[0][30][40][1200]).to('percent'))\n",
    "e_s = 6.1094 * np.exp(17.625*temp_celsius[0][30][40][1200]/(243.04+temp_celsius[0][30][40][1200]))\n",
    "e = e_s*rh[0][30][40][1200]/100\n",
    "print('sh with formula = ', 0.622*(e/pres[30]))"
   ]
  },
  {
   "cell_type": "code",
   "execution_count": 117,
   "id": "ecb7f0d7-793f-48a4-900b-7b54da033c17",
   "metadata": {},
   "outputs": [
    {
     "name": "stdout",
     "output_type": "stream",
     "text": [
      "rh = 108.03609884700364  sh = 0.0003376371112152369\n",
      " rh with MetPy : 82.32445393975067 percent\n",
      "sh with formula =  0.00044321451089024747\n"
     ]
    }
   ],
   "source": [
    "##################################\n",
    "print('rh = {}  sh = {}'.format(rh[0][30][80][80], sh[0][30][80][80]))\n",
    "print(' rh with MetPy :', relative_humidity_from_specific_humidity(pres[30] * units.hPa,\n",
    "                                         temp[0][30][80][80] * units.K, sh[0][30][80][80]).to('percent'))\n",
    "e_s = 6.1094 * np.exp(17.625*temp_celsius[0][30][80][80]/(243.04+temp_celsius[0][30][80][80]))\n",
    "e = e_s*rh[0][30][80][80]/100\n",
    "print('sh with formula = ', 0.622*(e/pres[30]))"
   ]
  },
  {
   "cell_type": "code",
   "execution_count": 120,
   "id": "92a03c69-9a7d-4146-98e5-da74ac01d81b",
   "metadata": {},
   "outputs": [
    {
     "name": "stdout",
     "output_type": "stream",
     "text": [
      "(array([0, 0]), array([6, 6]), array([47, 47]), array([804, 805]))\n",
      "Tmin = -88.41908874511716\n",
      "rh = 90.16262053985318  sh = 3.6055211271482195e-06\n",
      " rh with MetPy : 45.01503282648356 percent\n",
      "sh with formula =  7.188484725688056e-06\n"
     ]
    }
   ],
   "source": [
    "#################################\n",
    "ij_min = np.where(temp_celsius == temp_celsius.min())\n",
    "print(ij_min)\n",
    "print('Tmin =', temp_celsius[0][6][47][804])\n",
    "print('rh = {}  sh = {}'.format(rh[0][6][47][804], sh[0][6][47][804]))\n",
    "print(' rh with MetPy :', relative_humidity_from_specific_humidity(pres[6] * units.hPa,\n",
    "                                         temp[0][6][47][804] * units.K, sh[0][6][47][804]).to('percent'))\n",
    "e_s = 6.1094 * np.exp(17.625*temp_celsius[0][6][47][804]/(243.04+temp_celsius[0][6][47][804]))\n",
    "e = e_s*rh[0][6][47][804]/100\n",
    "print('sh with formula = ', 0.622*(e/pres[6]))"
   ]
  },
  {
   "cell_type": "code",
   "execution_count": null,
   "id": "b4e1d1d5-9543-4f7b-931b-b483edcc3f42",
   "metadata": {},
   "outputs": [],
   "source": []
  }
 ],
 "metadata": {
  "kernelspec": {
   "display_name": "Python 3 (ipykernel)",
   "language": "python",
   "name": "python3"
  },
  "language_info": {
   "codemirror_mode": {
    "name": "ipython",
    "version": 3
   },
   "file_extension": ".py",
   "mimetype": "text/x-python",
   "name": "python",
   "nbconvert_exporter": "python",
   "pygments_lexer": "ipython3",
   "version": "3.9.13"
  }
 },
 "nbformat": 4,
 "nbformat_minor": 5
}
