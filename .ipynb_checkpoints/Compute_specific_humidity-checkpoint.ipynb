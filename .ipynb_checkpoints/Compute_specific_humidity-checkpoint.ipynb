{
 "cells": [
  {
   "cell_type": "code",
   "execution_count": null,
   "id": "a27b70bd-4224-469f-bf1d-86ce1a607e7f",
   "metadata": {},
   "outputs": [],
   "source": [
    "#######################\n",
    "# COMPUTE SPECIFIC HUMIDITY \n",
    "#######################\n",
    "\n",
    "data_celsius = data-273.15\n",
    "e_s = 6.1094 * np.exp(17.625*data_celsius/(243.04+data_celsius))\n",
    "e = e_s*rh/100\n",
    "sh = 0.622*(e/pres)"
   ]
  },
  {
   "cell_type": "code",
   "execution_count": null,
   "id": "7e5498e4-8683-4e62-a662-6bff921d6d4b",
   "metadata": {},
   "outputs": [],
   "source": []
  }
 ],
 "metadata": {
  "kernelspec": {
   "display_name": "Python 3 (ipykernel)",
   "language": "python",
   "name": "python3"
  },
  "language_info": {
   "codemirror_mode": {
    "name": "ipython",
    "version": 3
   },
   "file_extension": ".py",
   "mimetype": "text/x-python",
   "name": "python",
   "nbconvert_exporter": "python",
   "pygments_lexer": "ipython3",
   "version": "3.9.13"
  }
 },
 "nbformat": 4,
 "nbformat_minor": 5
}
