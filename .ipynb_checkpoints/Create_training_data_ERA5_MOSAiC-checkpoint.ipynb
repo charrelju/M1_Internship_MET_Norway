{
 "cells": [
  {
   "cell_type": "markdown",
   "metadata": {},
   "source": [
    "<div style=\"text-align:right;\">Justine Charrel - Master 1 Internship</div>"
   ]
  },
  {
   "cell_type": "markdown",
   "metadata": {},
   "source": [
    "This script collocate the data of the MOSAiC campaign's radiosoundings and of the ERA5's reanalyses for one radiosounding. \n",
    "\n",
    "It can plot temperature, relative humidity, u, v, wind direction and wind speed of both. \n",
    "\n",
    "This scrip is used in a bash script to reproduce figures and collocated data for multiple radiosoundings."
   ]
  },
  {
   "cell_type": "markdown",
   "metadata": {},
   "source": [
    "### IMPORT"
   ]
  },
  {
   "cell_type": "code",
   "execution_count": 32,
   "metadata": {},
   "outputs": [],
   "source": [
    "import numpy as np\n",
    "from netCDF4 import Dataset as ncfile\n",
    "from netCDF4 import num2date\n",
    "import matplotlib.dates as dates\n",
    "import datetime"
   ]
  },
  {
   "cell_type": "markdown",
   "metadata": {},
   "source": [
    "### READ DATA"
   ]
  },
  {
   "cell_type": "code",
   "execution_count": 33,
   "metadata": {},
   "outputs": [],
   "source": [
    "date_min = '20191001000000'\n",
    "date_max = '20200929180000'\n",
    "task_ID = 1 #$TASK_ID"
   ]
  },
  {
   "cell_type": "code",
   "execution_count": 34,
   "metadata": {},
   "outputs": [],
   "source": [
    "\"\"\"Function that create a list of dates and take the date corresponding to the index giving by the bash script.\"\"\"\n",
    "def task_date(date_min, date_max, task_ID):\n",
    "    current_date = datetime.datetime.strptime(date_min, '%Y%m%d%H%M%S')\n",
    "    end_date = datetime.datetime.strptime(date_max, '%Y%m%d%H%M%S')\n",
    "    list_date = []\n",
    "    while current_date <= end_date:\n",
    "        list_date.append(current_date.strftime('%Y%m%d%H%M%S'))\n",
    "        current_date = current_date + datetime.timedelta(hours = 6)\n",
    "    date_task = list_date[task_ID - 1]\n",
    "    return(date_task)"
   ]
  },
  {
   "cell_type": "code",
   "execution_count": 35,
   "metadata": {},
   "outputs": [],
   "source": [
    "date_task = task_date(date_min,date_max,task_ID)"
   ]
  },
  {
   "cell_type": "code",
   "execution_count": 36,
   "metadata": {},
   "outputs": [],
   "source": [
    "year=date_task[0:4] ; month=date_task[4:6] ; day=date_task[6:8] ; hour=date_task[8:10]\n",
    "\n",
    "ppidir_era5 = '/lustre/storeB/users/maltem/Arctic/MOSAiC/ERA5/'\n",
    "if (year=='2019') and (month=='10' or month=='11' or month=='12') :\n",
    "    era5_link  = ppidir_era5 + 'ERA5_CentralArctic_PL_Radiosonde_Oct-Dec2019.nc'\n",
    "elif (year=='2020') and (month=='01' or month=='02' or month=='03') :\n",
    "    era5_link  = ppidir_era5 + 'ERA5_CentralArctic_PL_Radiosonde_Jan-Mar2020.nc'\n",
    "elif (year=='2020') and (month=='04' or month=='05' or month=='06' or month=='07' or month=='08' or month=='09') :\n",
    "    era5_link  = ppidir_era5 + 'ERA5_EuropeanArctic_PL_Radiosonde_April-Sep2020.nc'\n",
    "else :\n",
    "    print('no data available with ERA5 for this date')\n",
    "\n",
    "ppidir_mosaic = '/lustre/storeB/users/maltem/Arctic/MOSAiC/radiosondes/'+year+'/'+month+'/'\n",
    "mosaic_link  = ppidir_mosaic + 'PST-RS-01_2_RS41-GDP_001_'+year+month+day+'T'+hour+'0000_1-000-001.nc'\n",
    "\n",
    "era5 = ncfile(era5_link,'r')        #dataset of radiosoundings of ERA5\n",
    "mosaic = ncfile(mosaic_link,'r')    #dataset of radiosoundings of MOSAiC"
   ]
  },
  {
   "cell_type": "code",
   "execution_count": 37,
   "metadata": {},
   "outputs": [],
   "source": [
    "# ----- RADIOSOUNDINGS REANALYSES ERA5 -----\n",
    "era5_lat = era5.variables['latitude'][:]\n",
    "era5_lon =era5.variables['longitude'][:]\n",
    "era5_pres = era5.variables['level'][:]\n",
    "era5_time = era5.variables['time'][:]"
   ]
  },
  {
   "cell_type": "code",
   "execution_count": 38,
   "metadata": {},
   "outputs": [],
   "source": [
    "# ----- RADIOSOUNDINGS MOSAiC -----\n",
    "mosaic_lat = mosaic.variables['lat'][:]\n",
    "mosaic_lon = mosaic.variables['lon'][:]\n",
    "mosaic_pres = mosaic.variables['press'][:]\n",
    "mosaic_time = mosaic.variables['time'][:]"
   ]
  },
  {
   "cell_type": "code",
   "execution_count": 39,
   "metadata": {},
   "outputs": [
    {
     "data": {
      "text/plain": [
       "'\\n# To calculate the distance traveled by the balloon\\n\\ndef great_circle_distance(lon1, lat1, lon2, lat2):\\n        # Convert from degrees to radians\\n        pi = 3.14159265\\n        lon1 = lon1 * 2 * pi / 360.\\n        lat1 = lat1 * 2 * pi / 360.\\n        lon2 = lon2 * 2 * pi / 360.\\n        lat2 = lat2 * 2 * pi / 360.\\n        dlon = lon2 - lon1\\n        dlat = lat2 - lat1\\n        a = np.sin(dlat / 2.) ** 2 + np.cos(lat1) * np.cos(lat2) * np.sin(dlon / 2.) ** 2\\n        c = 2 * np.arcsin(np.sqrt(a))\\n        distance = 6.371e6 * c\\n        return distance\\n    \\ngreat_circle_distance(mosaic_lon[0], mosaic_lat[0], mosaic_lon[-1], mosaic_lat[-1])\\n'"
      ]
     },
     "execution_count": 39,
     "metadata": {},
     "output_type": "execute_result"
    }
   ],
   "source": [
    "\"\"\"\n",
    "# To calculate the distance traveled by the balloon\n",
    "\n",
    "def great_circle_distance(lon1, lat1, lon2, lat2):\n",
    "        # Convert from degrees to radians\n",
    "        pi = 3.14159265\n",
    "        lon1 = lon1 * 2 * pi / 360.\n",
    "        lat1 = lat1 * 2 * pi / 360.\n",
    "        lon2 = lon2 * 2 * pi / 360.\n",
    "        lat2 = lat2 * 2 * pi / 360.\n",
    "        dlon = lon2 - lon1\n",
    "        dlat = lat2 - lat1\n",
    "        a = np.sin(dlat / 2.) ** 2 + np.cos(lat1) * np.cos(lat2) * np.sin(dlon / 2.) ** 2\n",
    "        c = 2 * np.arcsin(np.sqrt(a))\n",
    "        distance = 6.371e6 * c\n",
    "        return distance\n",
    "    \n",
    "great_circle_distance(mosaic_lon[0], mosaic_lat[0], mosaic_lon[-1], mosaic_lat[-1])\n",
    "\"\"\""
   ]
  },
  {
   "cell_type": "markdown",
   "metadata": {},
   "source": [
    "### CONVERT TIME"
   ]
  },
  {
   "cell_type": "code",
   "execution_count": 40,
   "metadata": {},
   "outputs": [],
   "source": [
    "\"\"\"Function that convert times of a dataset depemding on its unit and calendar \n",
    "type to a datetime then to Matplotlib dates.\n",
    "---exemple---\n",
    "ERA5 :  'hours since 1900-01-01 00:00:00.0' become datetime of type 2019-10-01 00:00:00 then 18170\n",
    "MOSAiC : 'seconds since 2019-10-31T22:55:09.757Z' become datetime of type 2019-10-31 22:55:09.757000 then 18200.954974039352\n",
    "\"\"\"\n",
    "def convert_time(dataset) :\n",
    "    dataset_time = dataset.variables['time']\n",
    "    t_unit = dataset_time.units\n",
    "    t_cal = dataset_time.calendar\n",
    "    dataset_nctime=[]; \n",
    "    dataset_nctime.append(num2date(dataset_time,units = t_unit,calendar = t_cal, only_use_python_datetimes=True, only_use_cftime_datetimes=False)) #datetime of type 2019-10-01 00:00:00\n",
    "    #dates.date2num --> convert datetime objects to Matplotlib dates (better for compare ERA5 and MOSAiC times and for figures)\n",
    "    #np.squeeze --> pass Matplotlib dates in column instead of in line\n",
    "    dataset_nctimenum = np.squeeze(dates.date2num(dataset_nctime))\n",
    "    return dataset_nctime,dataset_nctimenum,t_unit"
   ]
  },
  {
   "cell_type": "code",
   "execution_count": 41,
   "metadata": {},
   "outputs": [],
   "source": [
    "era5_nctime,era5_nctimenum, t_unit = convert_time(era5)\n",
    "mosaic_nctime, mosaic_nctimenum, t_unit = convert_time(mosaic)"
   ]
  },
  {
   "cell_type": "markdown",
   "metadata": {},
   "source": [
    "### CORRESPONDING INDEXES OF LATITUDE, LONGITUDE, TIME AND OF PRESSURE LEVELS BETWEEN ERA5 AND MOSAIC"
   ]
  },
  {
   "cell_type": "code",
   "execution_count": 42,
   "metadata": {},
   "outputs": [],
   "source": [
    "\"\"\"Function that finds the indexes of the closest values between ERA5 and MOSAiC.\n",
    "   Useful for:\n",
    "- keep the latitudes, longitudes and times of ERA5 corresponding to MOSAiC\n",
    "- keep the MOSAiC pressure levels corresponding to ERA5\"\"\"\n",
    "def corresponding_index(era5,mosaic) :\n",
    "    diff = np.absolute(era5-mosaic)\n",
    "    indx = diff.argmin()\n",
    "    return indx"
   ]
  },
  {
   "cell_type": "code",
   "execution_count": 43,
   "metadata": {},
   "outputs": [],
   "source": [
    "desired_levels = list(range(300, 1025, 25)) #from 300 hPa to 1000 hPa by 25 hPa\n",
    "#desired_levels=era5_pres #if we want the same levels as era5 simply decomment this line"
   ]
  },
  {
   "cell_type": "code",
   "execution_count": 44,
   "metadata": {},
   "outputs": [],
   "source": [
    "# Considering a single MOSAiC time because radiosounding lasts 1h30. It's short enough for all radiosounding times to be close to the same ERA5 time [00:00, 6:00, 12:00, 18:00]\n",
    "indx_time = corresponding_index(era5_nctimenum,mosaic_nctimenum[0])\n",
    "    \n",
    "# Indexes of MOSAiC pressure levels closest to the desired pressure levels\n",
    "indx_level = []\n",
    "for i in range(0,len(desired_levels)) :\n",
    "    indx_level.append(corresponding_index(mosaic_pres,desired_levels[i]))\n",
    "\n",
    "# Latitude and longitude of ERA5 closest to MOSAiC\n",
    "\n",
    "#considering only the latitude and longitude of the first point of MOSAiC\n",
    "#indx_lat = corresponding_index(era5_lat,mosaic_lat[0])\n",
    "#indx_lon = corresponding_index(era5_lon,mosaic_lon[0])\n",
    "\n",
    "#considering the latitude and longitude of MOSAiC of each desired pressure level\n",
    "indx_lat = []\n",
    "for i in range(0,len(mosaic_lat[indx_level])) :\n",
    "    indx_lat.append(corresponding_index(era5_lat,mosaic_lat[indx_level][i]))\n",
    "indx_lon = []\n",
    "for i in range(0,len(mosaic_lon[indx_level])) :\n",
    "    indx_lon.append(corresponding_index(era5_lon,mosaic_lon[indx_level][i]))"
   ]
  },
  {
   "cell_type": "code",
   "execution_count": 45,
   "metadata": {},
   "outputs": [],
   "source": [
    "mosaic_lat_collocated = mosaic_lat[indx_level]    #keep mosaic's latitudes of each desired pressure level\n",
    "mosaic_lon_collocated = mosaic_lon[indx_level]    #keep mosaic's longitudes of each desired pressure level\n",
    "mosaic_time_collocated = mosaic_time[indx_level]  #keep mosaic's times of each desired pressure level\n",
    "\n",
    "era5_lat_collocated = era5_lat[indx_lat] #latitude closest to mosaic\n",
    "era5_lon_collocated = era5_lon[indx_lon] #longitude closest to mosaic"
   ]
  },
  {
   "cell_type": "markdown",
   "metadata": {},
   "source": [
    "### CORRESPONDING TEMPERATURE, RELATIVE HUMIDITY, ZONAL WIND U, MERIDIONAL WIND V, WIND DIRECTION AND WIND SPEED OF ERA5 AND MOSAIC"
   ]
  },
  {
   "cell_type": "code",
   "execution_count": 46,
   "metadata": {},
   "outputs": [],
   "source": [
    "# MOSAiC\n",
    "\n",
    "mosaic_temp = mosaic.variables['temp'][indx_level]\n",
    "mosaic_rh = mosaic.variables['rh'][indx_level]\n",
    "mosaic_u = mosaic.variables['wzon'][indx_level]\n",
    "mosaic_v = mosaic.variables['wmeri'][indx_level]\n",
    "mosaic_wdir = mosaic.variables['wdir'][indx_level]\n",
    "mosaic_wspeed = mosaic.variables['wspeed'][indx_level]"
   ]
  },
  {
   "cell_type": "code",
   "execution_count": 47,
   "metadata": {},
   "outputs": [],
   "source": [
    "# ERA5\n",
    "\n",
    "#considering only the latitude and longitude of the first point of MOSAiC\n",
    "#era5_temp = era5.variables['t'][indx_time,:,indx_lat,indx_lon]\n",
    "#era5_rh = era5.variables['r'][indx_time,:,indx_lat,indx_lon]\n",
    "#era5_u = era5.variables['u'][indx_time,:,indx_lat,indx_lon]\n",
    "#era5_v = era5.variables['v'][indx_time,:,indx_lat,indx_lon]\n",
    "#era5_wdir = ((180/np.pi) * np.arctan2(era5_u, era5_v) + 180) % 360\n",
    "#era5_wspeed = np.sqrt(era5_u**2+era5_v**2)\n",
    "\n",
    "#considering latitude and longitude of each pressure level\n",
    "era5_pres_list=era5_pres.tolist()\n",
    "era5_pres_list_cut = era5_pres_list[era5_pres_list.index(desired_levels[0]):]\n",
    "\n",
    "\"\"\"Function that finds the values of t, rh, u and v corresponding to the desired pressure levels.\n",
    "It add a value when the pressure level isn't available in ERA5.\n",
    "This value is the mean between the two closest surrounding pressure levels\"\"\"\n",
    "def interpolate() :\n",
    "    era5_temp = [] ; era5_rh = [] ; era5_u = [] ; era5_v = []\n",
    "    for i in range(0, len(indx_lat)) :\n",
    "        if desired_levels[i] in era5_pres_list_cut :\n",
    "            ind = era5_pres_list.index(desired_levels[i])\n",
    "            t = era5.variables['t'][indx_time][ind][indx_lat[i]][indx_lon[i]]\n",
    "            era5_temp.append(t)\n",
    "            rh = era5.variables['r'][indx_time][ind][indx_lat[i]][indx_lon[i]]\n",
    "            era5_rh.append(rh)\n",
    "            u = era5.variables['u'][indx_time][ind][indx_lat[i]][indx_lon[i]]\n",
    "            era5_u.append(u)\n",
    "            v = era5.variables['v'][indx_time][ind][indx_lat[i]][indx_lon[i]]\n",
    "            era5_v.append(v)\n",
    "        else :\n",
    "            era5_pres_list_cut.insert(i,desired_levels[i])\n",
    "            t = era5.variables['t'][indx_time][ind+1][indx_lat[i]][indx_lon[i]]\n",
    "            era5_temp.insert(i,(np.mean([era5_temp[i-1],t])))\n",
    "            rh = era5.variables['r'][indx_time][ind+1][indx_lat[i]][indx_lon[i]]\n",
    "            era5_rh.insert(i,(np.mean([era5_rh[i-1],rh])))\n",
    "            u = era5.variables['u'][indx_time][ind+1][indx_lat[i]][indx_lon[i]]\n",
    "            era5_u.insert(i,(np.mean([era5_u[i-1],u])))\n",
    "            v = era5.variables['v'][indx_time][ind+1][indx_lat[i]][indx_lon[i]]\n",
    "            era5_v.insert(i,(np.mean([era5_v[i-1],v])))\n",
    "    return era5_temp, era5_rh, era5_u, era5_v"
   ]
  },
  {
   "cell_type": "code",
   "execution_count": 48,
   "metadata": {},
   "outputs": [],
   "source": [
    "era5_temp, era5_rh, era5_u, era5_v = interpolate()"
   ]
  },
  {
   "cell_type": "code",
   "execution_count": 49,
   "metadata": {},
   "outputs": [],
   "source": [
    "era5_wdir = []\n",
    "era5_wspeed = []\n",
    "for i in range(0, len(indx_lat)) :\n",
    "    era5_wdir.append(((180/np.pi) * np.arctan2(era5_u[i], era5_v[i]) + 180) % 360)\n",
    "    era5_wspeed.append(np.sqrt(era5_u[i]**2+era5_v[i]**2))"
   ]
  },
  {
   "cell_type": "markdown",
   "metadata": {},
   "source": [
    "### PLOT "
   ]
  },
  {
   "cell_type": "code",
   "execution_count": 50,
   "metadata": {},
   "outputs": [],
   "source": [
    "\"\"\"Function that plot the profiles of temperature, relative humidity, zonal wind u, meridional wind v, wind direction and wind speed of ERA5 and MOSAiC\"\"\"\n",
    "def plotprofiles() :\n",
    "    \n",
    "    import matplotlib.gridspec as gridspec\n",
    "    from matplotlib import pyplot as plt\n",
    "\n",
    "    parameters = {'axes.labelsize':20, 'axes.titlesize':20, 'legend.fontsize':16, 'xtick.labelsize':20, 'ytick.labelsize':20, \n",
    "              'legend.title_fontsize':20, 'figure.titlesize':25}\n",
    "    plt.rcParams.update(parameters)\n",
    "\n",
    "    fig, axs = plt.subplots(1,6,figsize=(30,15))\n",
    "    axs[0].plot(mosaic_temp,desired_levels, 'C0')\n",
    "    axs[0].plot(era5_temp,desired_levels, 'C1')\n",
    "    axs[0].invert_yaxis()\n",
    "    axs[0].set_xlabel ('T [K]')\n",
    "    axs[0].set_ylabel ('Pressure [hPa]')\n",
    "\n",
    "    axs[1].plot(mosaic_rh, desired_levels, 'C0')\n",
    "    axs[1].plot(era5_rh,desired_levels, 'C1')\n",
    "    axs[1].invert_yaxis()\n",
    "    axs[1].set_xlabel ('RH [%]')\n",
    "\n",
    "    axs[2].plot(mosaic_u,desired_levels, 'C0')\n",
    "    axs[2].plot(era5_u,desired_levels, 'C1')\n",
    "    axs[2].invert_yaxis()\n",
    "    axs[2].set_xlabel (r'u [$m.s^{-1}$]')\n",
    "\n",
    "    axs[3].plot(mosaic_v,desired_levels, 'C0')\n",
    "    axs[3].plot(era5_v,desired_levels, 'C1')\n",
    "    axs[3].invert_yaxis()\n",
    "    axs[3].set_xlabel (r'v [$m.s^{-1}$]')\n",
    "\n",
    "    axs[4].plot(mosaic_wdir,desired_levels, 'C0')\n",
    "    axs[4].plot(era5_wdir,desired_levels, 'C1')\n",
    "    axs[4].invert_yaxis()\n",
    "    axs[4].set_xlabel (r'Wind speed [$m.s^{-1}$]')\n",
    "\n",
    "    axs[5].plot(mosaic_wspeed,desired_levels, 'C0')\n",
    "    axs[5].plot(era5_wspeed,desired_levels, 'C1')\n",
    "    axs[5].invert_yaxis()\n",
    "    axs[5].set_xlabel (r'Wind direction [degree]')\n",
    "    axs[5].legend(['MOSAiC','ERA5'])\n",
    "    \n",
    "    date = day + '/' + month + '/' + year + ' ' + hour + ':' + date_task[10:12] + ':' + date_task[12:14]\n",
    "    fig.suptitle(date, size=16)\n",
    "    fig.tight_layout()\n",
    "    fig.subplots_adjust(top=0.93)\n",
    "    path_fig = '/lustre/storeB/users/justinec/master_internship/figures/era5_mosaic_profiles/'\n",
    "    plt.savefig(path_fig+'fig_profiles_tropo_'+date_task+'.png')"
   ]
  },
  {
   "cell_type": "code",
   "execution_count": 51,
   "metadata": {},
   "outputs": [],
   "source": [
    "#plotprofiles() #comment this line to not plot figures"
   ]
  },
  {
   "cell_type": "markdown",
   "metadata": {},
   "source": [
    "### CREATE COLLOCATED NCFILE"
   ]
  },
  {
   "cell_type": "code",
   "execution_count": 82,
   "metadata": {},
   "outputs": [],
   "source": [
    "# Create a ncfile in a path\n",
    "path_output = '/lustre/storeB/users/justinec/master_internship/data/ERA5_MOSAiC/'\n",
    "output_filename = path_output + year + '/' + month + '/collocated_ERA5_MOSAiC_' + date_task + '.nc'\n",
    "output_netcdf = ncfile(output_filename, 'w', format = 'NETCDF4')"
   ]
  },
  {
   "cell_type": "code",
   "execution_count": 83,
   "metadata": {},
   "outputs": [],
   "source": [
    "# Dimension\n",
    "pres = output_netcdf.createDimension('pres',len(desired_levels))"
   ]
  },
  {
   "cell_type": "code",
   "execution_count": 84,
   "metadata": {},
   "outputs": [
    {
     "data": {
      "text/plain": [
       "<class 'netCDF4._netCDF4.Dimension'>: name = 'pres', size = 29"
      ]
     },
     "execution_count": 84,
     "metadata": {},
     "output_type": "execute_result"
    }
   ],
   "source": [
    "pres"
   ]
  },
  {
   "cell_type": "code",
   "execution_count": 85,
   "metadata": {},
   "outputs": [],
   "source": [
    "# Variables\n",
    "pres = output_netcdf.createVariable('pres', 'd', ('pres'))\n",
    "temp_era5 = output_netcdf.createVariable('temp_era5', 'd', ('pres'))\n",
    "temp_mosaic = output_netcdf.createVariable('temp_mosaic', 'd', ('pres'))\n",
    "rh_era5 = output_netcdf.createVariable('rh_era5', 'd', ('pres'))\n",
    "rh_mosaic = output_netcdf.createVariable('rh_mosaic', 'd', ('pres'))\n",
    "wspeed_era5 = output_netcdf.createVariable('wspeed_era5', 'd', ('pres'))\n",
    "wspeed_mosaic = output_netcdf.createVariable('wspeed_mosaic', 'd', ('pres'))\n",
    "wdir_era5 = output_netcdf.createVariable('wdir_era5', 'd', ('pres'))\n",
    "wdir_mosaic = output_netcdf.createVariable('wdir_mosaic', 'd', ('pres'))\n",
    "lat_mosaic = output_netcdf.createVariable('lat_mosaic', 'd', ('pres'))\n",
    "lon_mosaic = output_netcdf.createVariable('lon_mosaic', 'd', ('pres'))\n",
    "time_mosaic = output_netcdf.createVariable('time_mosaic', 'd', ('pres'))"
   ]
  },
  {
   "cell_type": "code",
   "execution_count": 86,
   "metadata": {},
   "outputs": [],
   "source": [
    "# Information\n",
    "pres.units = 'millibars'\n",
    "pres.long_name = 'Pressure level'\n",
    "pres.standard_name = 'pressure_level'\n",
    "temp_era5.units = 'K'\n",
    "temp_era5.long_name = 'Temperature'\n",
    "temp_era5.standard_name = 'air_temperature'\n",
    "temp_mosaic.units = 'K'\n",
    "temp_mosaic.long_name = 'Temperature'\n",
    "temp_mosaic.standard_name = 'air_temperature'\n",
    "rh_era5.units = 'percent'\n",
    "rh_era5.long_name = 'Relative Humidity'\n",
    "rh_era5.standard_name = 'relative_humidity'\n",
    "rh_mosaic.units = 'percent'\n",
    "rh_mosaic.long_name = 'Relative Humidity'\n",
    "rh_mosaic.standard_name = 'relative_humidity'\n",
    "wspeed_era5.units = 'm s-1'\n",
    "wspeed_era5.long_name = 'Wind speed'\n",
    "wspeed_era5.standard_name = 'wind_speed'\n",
    "wspeed_mosaic.units = 'm s-1'\n",
    "wspeed_mosaic.long_name = 'Wind speed'\n",
    "wspeed_mosaic.standard_name = 'wind_speed'\n",
    "wdir_era5.units = 'degree'\n",
    "wdir_era5.long_name = 'Wind direction'\n",
    "wdir_era5.standard_name = 'wind_from_direction'\n",
    "wdir_era5.comment = 'Wind direction with 0°:north, 90°:east, 180°:south, 270°:west'\n",
    "wdir_mosaic.units = 'degree'\n",
    "wdir_mosaic.long_name = 'Wind direction'\n",
    "wdir_mosaic.standard_name = 'wind_from_direction'\n",
    "wdir_mosaic.comment = 'Wind direction with 0°:north, 90°:east, 180°:south, 270°:west'\n",
    "lat_mosaic.units = 'degree_North'\n",
    "lat_mosaic.long_name = 'Latitude'\n",
    "lat_mosaic.standard_name = 'latitude'\n",
    "lon_mosaic.units = 'degree_East'\n",
    "lon_mosaic.long_name = 'Longitude'\n",
    "lon_mosaic.standard_name = 'longitude'\n",
    "time_mosaic.units = t_unit\n",
    "time_mosaic.long_name = 'Time'\n",
    "time_mosaic.standard_name = 'time'"
   ]
  },
  {
   "cell_type": "code",
   "execution_count": 87,
   "metadata": {},
   "outputs": [],
   "source": [
    "# Assignment of variables\n",
    "pres[:] = desired_levels\n",
    "temp_era5[:] = era5_temp\n",
    "temp_mosaic[:] = mosaic_temp\n",
    "rh_era5[:] = era5_rh\n",
    "rh_mosaic[:] = mosaic_rh\n",
    "wspeed_era5[:] = era5_wspeed\n",
    "wspeed_mosaic[:] = mosaic_wspeed\n",
    "wdir_era5[:] = era5_wdir\n",
    "wdir_mosaic[:] = mosaic_wdir\n",
    "lat_mosaic[:] = mosaic_lat_collocated\n",
    "lon_mosaic[:] = mosaic_lon_collocated\n",
    "time_mosaic[:] = mosaic_time_collocated"
   ]
  },
  {
   "cell_type": "code",
   "execution_count": 95,
   "metadata": {},
   "outputs": [],
   "source": [
    "output_netcdf.close() #close the netcdf file"
   ]
  }
 ],
 "metadata": {
  "kernelspec": {
   "display_name": "Python 3 (ipykernel)",
   "language": "python",
   "name": "python3"
  },
  "language_info": {
   "codemirror_mode": {
    "name": "ipython",
    "version": 3
   },
   "file_extension": ".py",
   "mimetype": "text/x-python",
   "name": "python",
   "nbconvert_exporter": "python",
   "pygments_lexer": "ipython3",
   "version": "3.9.13"
  }
 },
 "nbformat": 4,
 "nbformat_minor": 4
}
