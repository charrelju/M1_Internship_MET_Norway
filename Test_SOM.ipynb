{
 "cells": [
  {
   "cell_type": "code",
   "execution_count": 1,
   "id": "650eb12b-021c-47d3-96ad-af3b47d18292",
   "metadata": {},
   "outputs": [],
   "source": [
    "from hyperopt import fmin, tpe, hp"
   ]
  },
  {
   "cell_type": "code",
   "execution_count": null,
   "id": "dc949e72-9dd9-443f-92c0-c9044bc2c375",
   "metadata": {},
   "outputs": [],
   "source": [
    "x = 4\n",
    "y = 4\n",
    "input_len = len(data[1])\n",
    "iterations = 10000\n",
    "sigma = 1\n",
    "learning_rate = 0.001"
   ]
  },
  {
   "cell_type": "code",
   "execution_count": null,
   "id": "281812f9-d797-4bcc-bd36-2c876523ff9b",
   "metadata": {},
   "outputs": [],
   "source": [
    "def train_som(x, y, input_len, sigma, learning_rate):\n",
    "    \n",
    "    # initialization of x*y SOM\n",
    "    som = MiniSom(x=x, \n",
    "                  y=y, \n",
    "                  input_len=input_len, \n",
    "                  sigma=sigma, \n",
    "                  learning_rate=learning_rate)\n",
    "    som.random_weights_init(data)\n",
    "    \n",
    "    # training\n",
    "    start_time = time.time()\n",
    "    som.train_random(data,iterations)\n",
    "    elapsed_time = time.time() - start_time\n",
    "    #print(elapsed_time, \"seconds\")\n",
    "    #print('total_q_error :', som.quantization_error(data))\n",
    "    \n",
    "    return som"
   ]
  },
  {
   "cell_type": "code",
   "execution_count": null,
   "id": "83b53729-7fd3-41f4-955f-906158cc9bbb",
   "metadata": {},
   "outputs": [],
   "source": [
    "som = train_som(x, y, input_len, sigma, learning_rate)"
   ]
  },
  {
   "cell_type": "code",
   "execution_count": null,
   "id": "97f13e4b-5f95-45fb-9ee6-4aecc139b5e5",
   "metadata": {},
   "outputs": [],
   "source": [
    "for i in range(1, 10, 1) :\n",
    "    for j in range(1, 10, 1):\n",
    "        som = train_som(x, y, input_len, i/10, j/10)\n",
    "        print('s = {}, lt = {}, q = {}'.format(i/10, j/10, np.round(som.quantization_error(data),3)))"
   ]
  },
  {
   "cell_type": "code",
   "execution_count": null,
   "id": "c57ab845-9832-4388-b855-e25224cc33ba",
   "metadata": {},
   "outputs": [],
   "source": [
    "def plot_som(som):\n",
    "    plt.figure(figsize=(6, 6))\n",
    "    plt.imshow(som.distance_map()) #normalised sum of the distances between a neuron and its neighbours (euclidean distance)\n",
    "    plt.colorbar()\n",
    "    ax = plt.gca()\n",
    "    ax.set_xticks(np.arange(-.5, 4, 1))\n",
    "    ax.set_yticks(np.arange(-.5, 4, 1))\n",
    "    ax.set_xticklabels(np.arange(0, 5, 1))\n",
    "    ax.set_yticklabels(np.arange(0, 5, 1))"
   ]
  },
  {
   "cell_type": "code",
   "execution_count": null,
   "id": "64cd8f7e-a3c0-40bb-a29b-2c6eea0d2531",
   "metadata": {},
   "outputs": [],
   "source": [
    "som.distance_map()"
   ]
  },
  {
   "cell_type": "code",
   "execution_count": null,
   "id": "4f724396-1c00-4f34-83e4-5b0fe744fbee",
   "metadata": {},
   "outputs": [],
   "source": [
    "plot_som(som)"
   ]
  },
  {
   "cell_type": "code",
   "execution_count": null,
   "id": "1c4dcb11-c8ed-426a-9518-08a22276b090",
   "metadata": {},
   "outputs": [],
   "source": [
    "start_time = time.time()\n",
    "best = fmin(\n",
    "    fn=lambda sig: MiniSom(x=x, \n",
    "              y=y, \n",
    "              input_len=input_len, \n",
    "              sigma=sig, \n",
    "              learning_rate=learning_rate).quantization_error(data),\n",
    "    space=hp.uniform(\"sig\", 0.001, x / 2.01),\n",
    "    algo=tpe.suggest,\n",
    "    max_evals=200)\n",
    "elapsed_time = time.time() - start_time\n",
    "print(elapsed_time, \"seconds\")\n",
    "print(best)"
   ]
  },
  {
   "cell_type": "code",
   "execution_count": null,
   "id": "f46c88ed-919e-42cf-a6a9-8f98857f7ba9",
   "metadata": {},
   "outputs": [],
   "source": [
    "sigma = best['sig']\n",
    "print(\"x: {}\\ny: {}\\ninput_len: {}\\nsigma: {}\\nlearning_rate: {}\".format(x,y,len(data[1]),sigma,learning_rate))"
   ]
  },
  {
   "cell_type": "code",
   "execution_count": null,
   "id": "7c9d97ea-67c0-4dcf-939f-24eabd689e94",
   "metadata": {},
   "outputs": [],
   "source": [
    "som = train_som(x, y, input_len, sigma, learning_rate)\n",
    "plot_som(som)"
   ]
  },
  {
   "cell_type": "code",
   "execution_count": null,
   "id": "f9ad9483-8189-43db-8331-9b2ce2370c97",
   "metadata": {},
   "outputs": [],
   "source": [
    "from hyperopt import Trials, STATUS_OK\n",
    "\n",
    "space={\n",
    "        'sig': hp.uniform('sig', 0.001, 5),\n",
    "        'learning_rate': hp.uniform('learning_rate', 0.001, 5)\n",
    "    }\n",
    "def som_fn(space):\n",
    "    sig = space['sig']\n",
    "    learning_rate = space['learning_rate']\n",
    "    val = MiniSom(x=x, \n",
    "                  y=y, \n",
    "                  input_len=input_len, \n",
    "                  sigma=sig, \n",
    "                  learning_rate=learning_rate).quantization_error(data)\n",
    "    #print(val)\n",
    "    return {'loss': val, 'status': STATUS_OK}\n",
    "\n",
    "trials =  Trials()\n",
    "best = fmin(fn=som_fn,\n",
    "            space=space,\n",
    "            algo=tpe.suggest,\n",
    "            max_evals=100,\n",
    "            trials=trials)\n",
    "\n",
    "print('best: {}'.format(best))\n",
    "for i, trial in enumerate(trials.trials[:2]):\n",
    "    print(i, trial)"
   ]
  },
  {
   "cell_type": "code",
   "execution_count": null,
   "id": "4b0e38f0-395f-4f50-925a-55b0206d7b34",
   "metadata": {},
   "outputs": [],
   "source": [
    "sigma = best['sig']\n",
    "learning_rate = best['learning_rate']\n",
    "print(\"x: {}\\ny: {}\\ninput_len: {}\\nsigma: {}\\nlearning_rate: {}\".format(x,y,len(data[1]),sigma,learning_rate))"
   ]
  },
  {
   "cell_type": "code",
   "execution_count": null,
   "id": "34bcd337-0aa0-4b1b-a093-d7886096de6b",
   "metadata": {},
   "outputs": [],
   "source": [
    "som = train_som(x, y, input_len, sigma, learning_rate)\n",
    "plot_som(som)"
   ]
  },
  {
   "cell_type": "code",
   "execution_count": null,
   "id": "42efb53a-4202-4051-8789-b938ca7fc907",
   "metadata": {},
   "outputs": [],
   "source": [
    "### Loop to test sigma and learning rate :\n",
    "for i in range(1, 10, 1) :\n",
    "    for j in range(1, 100, 1):\n",
    "        som = train_som(x, y, input_len, i/10, j/100)\n",
    "        print('s = {}, lt = {}, q = {}'.format(i/10, j/100, np.round(som.quantization_error(data),3)))"
   ]
  }
 ],
 "metadata": {
  "kernelspec": {
   "display_name": "Python 3 (ipykernel)",
   "language": "python",
   "name": "python3"
  },
  "language_info": {
   "codemirror_mode": {
    "name": "ipython",
    "version": 3
   },
   "file_extension": ".py",
   "mimetype": "text/x-python",
   "name": "python",
   "nbconvert_exporter": "python",
   "pygments_lexer": "ipython3",
   "version": "3.9.13"
  }
 },
 "nbformat": 4,
 "nbformat_minor": 5
}
